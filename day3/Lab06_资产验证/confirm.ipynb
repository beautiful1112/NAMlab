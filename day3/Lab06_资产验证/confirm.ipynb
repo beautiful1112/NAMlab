{
 "cells": [
  {
   "cell_type": "code",
   "execution_count": 2,
   "metadata": {},
   "outputs": [
    {
     "data": {
      "text/html": [
       "<div>\n",
       "<style scoped>\n",
       "    .dataframe tbody tr th:only-of-type {\n",
       "        vertical-align: middle;\n",
       "    }\n",
       "\n",
       "    .dataframe tbody tr th {\n",
       "        vertical-align: top;\n",
       "    }\n",
       "\n",
       "    .dataframe thead th {\n",
       "        text-align: right;\n",
       "    }\n",
       "</style>\n",
       "<table border=\"1\" class=\"dataframe\">\n",
       "  <thead>\n",
       "    <tr style=\"text-align: right;\">\n",
       "      <th></th>\n",
       "      <th>Host</th>\n",
       "      <th>DeviceType</th>\n",
       "      <th>Username</th>\n",
       "      <th>Password</th>\n",
       "    </tr>\n",
       "  </thead>\n",
       "  <tbody>\n",
       "    <tr>\n",
       "      <th>0</th>\n",
       "      <td>192.168.1.101</td>\n",
       "      <td>huawei</td>\n",
       "      <td>huaweiuser</td>\n",
       "      <td>Huawei@123</td>\n",
       "    </tr>\n",
       "    <tr>\n",
       "      <th>1</th>\n",
       "      <td>192.168.1.102</td>\n",
       "      <td>huawei</td>\n",
       "      <td>huaweiuser</td>\n",
       "      <td>Huawei@123</td>\n",
       "    </tr>\n",
       "    <tr>\n",
       "      <th>2</th>\n",
       "      <td>192.168.1.103</td>\n",
       "      <td>huawei</td>\n",
       "      <td>huaweiuser</td>\n",
       "      <td>Huawei@123</td>\n",
       "    </tr>\n",
       "  </tbody>\n",
       "</table>\n",
       "</div>"
      ],
      "text/plain": [
       "            Host DeviceType    Username    Password\n",
       "0  192.168.1.101     huawei  huaweiuser  Huawei@123\n",
       "1  192.168.1.102     huawei  huaweiuser  Huawei@123\n",
       "2  192.168.1.103     huawei  huaweiuser  Huawei@123"
      ]
     },
     "execution_count": 2,
     "metadata": {},
     "output_type": "execute_result"
    }
   ],
   "source": [
    "import pandas as pd\n",
    "excel_path = 'http://192.168.1.50:9000/yeslab/%E7%BD%91%E7%BB%9C%E8%B5%84%E4%BA%A7.xlsx'\n",
    "excel = pd.read_excel(excel_path)\n",
    "excel"
   ]
  },
  {
   "cell_type": "code",
   "execution_count": 1,
   "metadata": {},
   "outputs": [
    {
     "name": "stdout",
     "output_type": "stream",
     "text": [
      "检测失败\n",
      "检测失败\n",
      "检测失败\n"
     ]
    }
   ],
   "source": [
    "import os\n",
    "import pandas as pd\n",
    "\n",
    "\n",
    "excel_path = 'http://192.168.1.50:9000/yeslab/%E7%BD%91%E7%BB%9C%E8%B5%84%E4%BA%A7.xlsx'\n",
    "\n",
    "case_1 = '无法访问目标主机'\n",
    "case_2 = '请求超时'\n",
    "\n",
    "\n",
    "def get_login_info(excel_path):\n",
    "    excel = pd.read_excel(excel_path)\n",
    "    ip_list = [excel.loc[i].values.tolist()[0] for i in range(excel.shape[0])]\n",
    "    return ip_list\n",
    "\n",
    "def check(ip):\n",
    "    result = os.popen(f'ping {ip}', 'r', 1).read()\n",
    "    if case_1 in result or case_2 in result:\n",
    "        print('检测失败')\n",
    "    else:\n",
    "        print('检测成功')\n",
    "\n",
    "ip_list = get_login_info(excel_path)\n",
    "for ip in ip_list:\n",
    "    check(ip)"
   ]
  }
 ],
 "metadata": {
  "kernelspec": {
   "display_name": "Python 3",
   "language": "python",
   "name": "python3"
  },
  "language_info": {
   "codemirror_mode": {
    "name": "ipython",
    "version": 3
   },
   "file_extension": ".py",
   "mimetype": "text/x-python",
   "name": "python",
   "nbconvert_exporter": "python",
   "pygments_lexer": "ipython3",
   "version": "3.12.0"
  }
 },
 "nbformat": 4,
 "nbformat_minor": 2
}
