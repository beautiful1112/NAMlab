{
 "cells": [
  {
   "cell_type": "code",
   "execution_count": 28,
   "metadata": {},
   "outputs": [],
   "source": [
    "import os\n",
    "import json\n",
    "import datetime\n",
    "import pandas as pd\n",
    "from netmiko import ConnectHandler\n",
    "\n",
    "\n",
    "def get_login_info(excel_path):\n",
    "    excel = pd.read_excel(excel_path)\n",
    "    # dtype, ip, username, password\n",
    "    data_list = [excel.loc[i].values.tolist() for i in range(excel.shape[0])]\n",
    "    return data_list\n",
    "\n",
    "def back_file(config_dict, dst_path):\n",
    "    if not os.path.exists(dst_path):\n",
    "        os.mkdir(dst_path)\n",
    "    for ip in config_dict:\n",
    "        now = str(datetime.datetime.now()).split('.')[0].replace(' ', '_').replace(':', '_')\n",
    "        file_name = ip + '_' + now + '.txt'\n",
    "        full_path = dst_path + '/' + file_name\n",
    "        with open(full_path, 'w') as f:\n",
    "            print(config_dict[ip])\n",
    "            f.write(config_dict[ip])"
   ]
  },
  {
   "cell_type": "code",
   "execution_count": 29,
   "metadata": {},
   "outputs": [
    {
     "name": "stdout",
     "output_type": "stream",
     "text": [
      "yeslab\n"
     ]
    }
   ],
   "source": [
    "test_data = {'1.1.1.1': 'yeslab'}\n",
    "back_file(test_data, 'config_back')"
   ]
  },
  {
   "cell_type": "code",
   "execution_count": null,
   "metadata": {},
   "outputs": [],
   "source": []
  }
 ],
 "metadata": {
  "kernelspec": {
   "display_name": "Python 3",
   "language": "python",
   "name": "python3"
  },
  "language_info": {
   "codemirror_mode": {
    "name": "ipython",
    "version": 3
   },
   "file_extension": ".py",
   "mimetype": "text/x-python",
   "name": "python",
   "nbconvert_exporter": "python",
   "pygments_lexer": "ipython3",
   "version": "3.12.0"
  }
 },
 "nbformat": 4,
 "nbformat_minor": 2
}
