{
 "cells": [
  {
   "cell_type": "code",
   "execution_count": 4,
   "metadata": {},
   "outputs": [],
   "source": [
    "import numpy as np"
   ]
  },
  {
   "cell_type": "markdown",
   "metadata": {},
   "source": [
    "## 创建矩阵\n",
    "* 纯手工创建\n",
    "* 全 0 矩阵\n",
    "* 全 1 矩阵\n",
    "* 全随机浮点数矩阵\n",
    "* 全随机整数矩阵"
   ]
  },
  {
   "cell_type": "code",
   "execution_count": 8,
   "metadata": {},
   "outputs": [
    {
     "data": {
      "text/plain": [
       "dtype('int32')"
      ]
     },
     "execution_count": 8,
     "metadata": {},
     "output_type": "execute_result"
    }
   ],
   "source": [
    "A = np.array([[1,2],[3,4]])\n",
    "A.dtype"
   ]
  },
  {
   "cell_type": "code",
   "execution_count": 9,
   "metadata": {},
   "outputs": [
    {
     "data": {
      "text/plain": [
       "array([[0., 0., 0., 0.],\n",
       "       [0., 0., 0., 0.],\n",
       "       [0., 0., 0., 0.]])"
      ]
     },
     "execution_count": 9,
     "metadata": {},
     "output_type": "execute_result"
    }
   ],
   "source": [
    "B = np.zeros((3,4))\n",
    "B"
   ]
  },
  {
   "cell_type": "code",
   "execution_count": 10,
   "metadata": {},
   "outputs": [
    {
     "data": {
      "text/plain": [
       "array([[1., 1., 1.],\n",
       "       [1., 1., 1.],\n",
       "       [1., 1., 1.],\n",
       "       [1., 1., 1.]])"
      ]
     },
     "execution_count": 10,
     "metadata": {},
     "output_type": "execute_result"
    }
   ],
   "source": [
    "C = np.ones((4,3))\n",
    "C"
   ]
  },
  {
   "cell_type": "code",
   "execution_count": 22,
   "metadata": {},
   "outputs": [
    {
     "data": {
      "text/plain": [
       "array([[0.54407506, 0.50993476, 0.62919919],\n",
       "       [0.30544952, 0.99388378, 0.96944016],\n",
       "       [0.4340577 , 0.30100476, 0.59717076]])"
      ]
     },
     "execution_count": 22,
     "metadata": {},
     "output_type": "execute_result"
    }
   ],
   "source": [
    "D = np.random.random([3,3])\n",
    "D"
   ]
  },
  {
   "cell_type": "code",
   "execution_count": 15,
   "metadata": {},
   "outputs": [
    {
     "data": {
      "text/plain": [
       "array([[328.63624054, 931.34349475, 335.19423637],\n",
       "       [246.54879466, 573.04941751, 561.44666887],\n",
       "       [560.7798108 , 604.86508074, 217.41284389]])"
      ]
     },
     "execution_count": 15,
     "metadata": {},
     "output_type": "execute_result"
    }
   ],
   "source": [
    "E = np.random.random((3,3)) * 900 + 100\n",
    "E"
   ]
  },
  {
   "cell_type": "code",
   "execution_count": 25,
   "metadata": {},
   "outputs": [
    {
     "data": {
      "text/plain": [
       "array([[834, 536, 798, 438],\n",
       "       [504, 547, 848, 365],\n",
       "       [462, 189, 700, 996],\n",
       "       [696, 927, 839, 462]])"
      ]
     },
     "execution_count": 25,
     "metadata": {},
     "output_type": "execute_result"
    }
   ],
   "source": [
    "F = np.random.randint(100, 1000, (4,4))\n",
    "F"
   ]
  },
  {
   "cell_type": "code",
   "execution_count": 29,
   "metadata": {},
   "outputs": [],
   "source": [
    "A = np.array([[1,2],[3,4]])\n",
    "B = np.zeros((3,4))\n",
    "C = np.ones((4,3))\n",
    "D = np.random.random((3,3))\n",
    "E = np.random.random((3,3)) * 900 + 100\n",
    "F = np.random.randint(100, 1000, (4,4))"
   ]
  },
  {
   "cell_type": "code",
   "execution_count": 43,
   "metadata": {},
   "outputs": [],
   "source": [
    "char_list = ['A','B','C','D','E','F','G','H']\n",
    "\n",
    "def create_password(char_list, pass_len=8, str_len=6, num_len=4):\n",
    "    password_str = np.random.choice(char_list, str_len, replace=False)\n",
    "    password_num = np.random.choice(10, num_len, replace=False)\n",
    "    password_chars = np.hstack((password_str, password_num))\n",
    "    pass_list = password_chars.tolist()\n",
    "    new_pass_list = np.random.choice(pass_list, pass_len).tolist()\n",
    "    password = ''.join(new_pass_list)\n",
    "    return password"
   ]
  },
  {
   "cell_type": "code",
   "execution_count": 44,
   "metadata": {},
   "outputs": [],
   "source": [
    "password_database = []\n",
    "for _ in range(100):\n",
    "    password = create_password(char_list)\n",
    "    password_database.append(password)"
   ]
  },
  {
   "cell_type": "code",
   "execution_count": 45,
   "metadata": {
    "scrolled": true
   },
   "outputs": [
    {
     "data": {
      "text/plain": [
       "['G7C5F6C5',\n",
       " '575G9A55',\n",
       " 'DD4EBB0B',\n",
       " '2HFFBBEC',\n",
       " 'CFEA0GGA',\n",
       " 'AB47CE5H',\n",
       " 'HBBCA99C',\n",
       " '30F0E5D9',\n",
       " 'FFD2D2D0',\n",
       " 'HAH0F73F',\n",
       " 'ABB06HG1',\n",
       " '339CHB1B',\n",
       " '18G1616A',\n",
       " '6EDHGG64',\n",
       " 'H5DAFE3F',\n",
       " 'G767BC0H',\n",
       " 'C7D4HD07',\n",
       " 'GDA67C66',\n",
       " '4CFF334H',\n",
       " '5FD0C1BH',\n",
       " '06062ED2',\n",
       " 'F8ED32HD',\n",
       " '7DDA11G7',\n",
       " 'H222D8AB',\n",
       " 'C646FD9F',\n",
       " 'CHEEEB58',\n",
       " '266D2FGG',\n",
       " 'CEGF9AD2',\n",
       " '48A80GCG',\n",
       " '1D9FFAA6',\n",
       " '1BA71GF5',\n",
       " 'GCDHE26G',\n",
       " 'DB2BDED0',\n",
       " 'F2B5FB9A',\n",
       " 'H5BA6C4D',\n",
       " 'B31AH23E',\n",
       " '6GFF45HH',\n",
       " 'BA4FH4GA',\n",
       " '62E5D5G3',\n",
       " 'E2C22AEB',\n",
       " '52BG8BBF',\n",
       " 'G7DDC647',\n",
       " 'HHB44HAA',\n",
       " '667GAEAH',\n",
       " 'A7CGC7E6',\n",
       " 'CF00131D',\n",
       " 'BH4B8G0D',\n",
       " '4CD48G3D',\n",
       " '1DAFFFC3',\n",
       " 'ABA61G41',\n",
       " 'G306F3A6',\n",
       " '4DCC4B44',\n",
       " '0CBHHE2D',\n",
       " '2B237AB6',\n",
       " 'CC7ECE6B',\n",
       " 'CDH9DB99',\n",
       " '86BG646G',\n",
       " '63DDBG3G',\n",
       " 'FEBBE61B',\n",
       " 'B6D7BD7A',\n",
       " '7HHD8G41',\n",
       " 'A5F4CHAA',\n",
       " '55BE0B0D',\n",
       " '5EE54FGD',\n",
       " '4ACCA4C9',\n",
       " 'DB00AFGG',\n",
       " 'BC4E9C4C',\n",
       " 'F1F9BB1B',\n",
       " 'DEFEE97F',\n",
       " 'EABEA7EE',\n",
       " 'GGGH3GH2',\n",
       " '858GEG88',\n",
       " 'G3ACAG94',\n",
       " 'HDE1B199',\n",
       " 'AD00FH1G',\n",
       " 'C71CCCG1',\n",
       " '37CHCBBA',\n",
       " 'GFF54BA1',\n",
       " 'B24AC42G',\n",
       " 'C3A62E2A',\n",
       " '3666DAFD',\n",
       " 'H4FAH0AG',\n",
       " 'H737H7EB',\n",
       " '0E0060D6',\n",
       " '2EG1EGA2',\n",
       " 'E08F86CA',\n",
       " 'BC61AFF7',\n",
       " 'HHCF3BF0',\n",
       " '5H6GDD5A',\n",
       " 'DG00DGEG',\n",
       " 'A1B4BBBA',\n",
       " 'E2EFBFFH',\n",
       " '1H66EE4H',\n",
       " '0CC020C9',\n",
       " '1FG5HG5H',\n",
       " 'E92EFAAE',\n",
       " '0F0F1HE6',\n",
       " 'F7G5FBGF',\n",
       " 'H90HFBGB',\n",
       " '4HD54DGC']"
      ]
     },
     "execution_count": 45,
     "metadata": {},
     "output_type": "execute_result"
    }
   ],
   "source": [
    "password_database"
   ]
  },
  {
   "cell_type": "markdown",
   "metadata": {},
   "source": [
    "## 作业 - 数据标签"
   ]
  },
  {
   "cell_type": "code",
   "execution_count": 59,
   "metadata": {},
   "outputs": [],
   "source": [
    "file = open('data/log')\n",
    "res = file.readlines()\n",
    "datas = []\n",
    "for re in res:\n",
    "    new_line = re.split('\\n')[0][1:]\n",
    "    month, date, time, log_type = new_line.split(' ')[0:4]\n",
    "    data = new_line.split(': ',2)[2]\n",
    "    datas.append([month, date, time[0:-1], log_type[1:-1], data])\n",
    "    \n",
    "npdatas = np.array(datas)"
   ]
  },
  {
   "cell_type": "code",
   "execution_count": 63,
   "metadata": {},
   "outputs": [
    {
     "data": {
      "text/plain": [
       "['*Jan 26 06:53:11: %SYS-6-LOGGINGHOST_STARTSTOP: Logging to host 110.186.35.237 Port 514 started - CLI initiated\\n',\n",
       " '*Jan 26 06:53:10: %SYS-SPSTBY-3-LOGGER_FLUSHED: System was paused for 00:00:00 to ensure console debugging output.\\n',\n",
       " \"*Jan 26 06:53:11: %OIR-SP-3-PWRCYCLE: Card in module 5, is being power-cycled 'Switchover'\\n\",\n",
       " '*Jan 26 06:53:12: %SNMP-5-MODULETRAP: Module 5 [Down] Trap\\n',\n",
       " '*Jan 26 06:53:12: %SNMP-5-MODULETRAP: Module 6 [Up] Trap\\n',\n",
       " '*Jan 26 06:53:12: %C6KPWR-SP-4-PSOK: power supply 1 turned on.\\n',\n",
       " '*Jan 26 06:53:12: %C6KPWR-SP-4-PSOK: power supply 2 turned on.\\n',\n",
       " '*Jan 26 06:53:13: %SNMP-5-MODULETRAP: Module 3 [Up] Trap\\n',\n",
       " '*Jan 26 06:53:13: %SNMP-5-MODULETRAP: Module 4 [Up] Trap\\n',\n",
       " '*Jan 26 06:53:13: %SNMP-5-MODULETRAP: Module 7 [Up] Trap\\n',\n",
       " '*Jan 26 06:53:13: %SNMP-5-MODULETRAP: Module 2 [Up] Trap\\n',\n",
       " '*Jan 26 06:53:12: %OIR-SP-6-DOWNGRADE_EARL: Module 7 DFC installed is not identical to system PFC and will perform at current system operating mode.\\n',\n",
       " '*Jan 26 06:53:12: %OIR-SP-6-INSCARD: Card inserted in slot 6, interfaces are now online\\n',\n",
       " '*Jan 26 06:53:13: %OIR-SP-6-INSCARD: Card inserted in slot 3, interfaces are now online\\n',\n",
       " '*Jan 26 06:53:13: %OIR-SP-6-INSCARD: Card inserted in slot 4, interfaces are now online\\n',\n",
       " '*Jan 26 06:53:13: %OIR-SP-6-INSCARD: Card inserted in slot 7, interfaces are now online\\n',\n",
       " '*Jan 26 06:53:13: %OIR-SP-6-INSCARD: Card inserted in slot 2, interfaces are now online\\n',\n",
       " '*Jan 26 06:53:14: %SNMP-5-MODULETRAP: Module 1 [Up] Trap\\n',\n",
       " '*Jan 26 06:53:14: %OIR-SP-6-INSCARD: Card inserted in slot 1, interfaces are now online\\n',\n",
       " '*Jan 26 06:53:16: %OSPF-5-ADJCHG: Process 1, Nbr 110.79.135.33 on Vlan168 from LOADING to FULL, Loading Done\\n',\n",
       " '*Jan 26 06:53:16: %OSPF-5-ADJCHG: Process 1, Nbr 110.79.135.33 on Vlan165 from LOADING to FULL, Loading Done\\n',\n",
       " '*Jan 26 06:53:17: %OSPF-5-ADJCHG: Process 1, Nbr 110.79.135.33 on GigabitEthernet2/3 from LOADING to FULL, Loading Done\\n',\n",
       " '*Jan 26 06:53:17: %OSPF-5-ADJCHG: Process 1, Nbr 60.135.202.220 on GigabitEthernet2/8 from LOADING to FULL, Loading Done\\n',\n",
       " '*Jan 26 06:53:17: %OSPF-5-ADJCHG: Process 1, Nbr 110.79.134.230 on GigabitEthernet2/11 from LOADING to FULL, Loading Done\\n',\n",
       " '*Jan 26 06:53:19: %OSPF-5-ADJCHG: Process 1, Nbr 110.79.134.249 on TenGigabitEthernet7/11 from LOADING to FULL, Loading Done\\n',\n",
       " '*Jan 26 06:53:21: %BGP-3-NOTIFICATION: received from neighbor 110.79.134.225 6/5 (cease) 0 bytes \\n',\n",
       " '*Jan 26 06:53:23: %BGP-3-NOTIFICATION: received from neighbor 110.79.134.224 6/5 (cease) 0 bytes \\n',\n",
       " '*Jan 26 06:53:32: %BGP-3-NOTIFICATION: received from neighbor 110.79.134.225 6/5 (cease) 0 bytes \\n',\n",
       " '*Jan 26 06:53:36: %BGP-3-NOTIFICATION: received from neighbor 110.79.134.224 6/5 (cease) 0 bytes \\n',\n",
       " '*Jan 26 06:53:40: %BGP-3-NOTIFICATION: received from neighbor 110.79.134.225 6/5 (cease) 0 bytes \\n',\n",
       " '*Jan 26 06:53:45: %BGP-3-NOTIFICATION: received from neighbor 110.79.134.224 6/5 (cease) 0 bytes \\n',\n",
       " '*Jan 26 06:53:49: %BGP-3-NOTIFICATION: received from neighbor 110.79.134.225 6/5 (cease) 0 bytes \\n',\n",
       " '*Jan 26 06:53:53: %BGP-3-NOTIFICATION: received from neighbor 110.79.134.224 6/5 (cease) 0 bytes \\n',\n",
       " '*Jan 26 06:53:58: %OSPF-5-ADJCHG: Process 1, Nbr 60.135.202.220 on GigabitEthernet2/8 from FULL to DOWN, Neighbor Down: Dead timer expired\\n',\n",
       " '*Jan 26 06:53:59: %OSPF-5-ADJCHG: Process 1, Nbr 110.79.134.249 on TenGigabitEthernet7/11 from FULL to DOWN, Neighbor Down: Dead timer expired\\n',\n",
       " '*Jan 26 06:53:59: %OSPF-5-ADJCHG: Process 1, Nbr 110.79.134.230 on GigabitEthernet2/11 from FULL to DOWN, Neighbor Down: Dead timer expired\\n',\n",
       " '*Jan 26 06:54:00: %OSPF-5-ADJCHG: Process 1, Nbr 110.79.135.33 on Vlan168 from FULL to DOWN, Neighbor Down: Dead timer expired\\n',\n",
       " '*Jan 26 06:54:00: %OSPF-5-ADJCHG: Process 1, Nbr 110.79.135.33 on Vlan165 from FULL to DOWN, Neighbor Down: Dead timer expired\\n',\n",
       " '*Jan 26 06:54:00: %OSPF-5-ADJCHG: Process 1, Nbr 110.79.135.33 on GigabitEthernet2/3 from FULL to DOWN, Neighbor Down: Dead timer expired\\n',\n",
       " '*Jan 26 06:56:37: %OSPF-5-ADJCHG: Process 1, Nbr 110.112.32.37 on Port-channel1 from LOADING to FULL, Loading Done\\n',\n",
       " '*Jan 26 06:56:37: %OSPF-5-ADJCHG: Process 1, Nbr 110.79.134.230 on Vlan142 from LOADING to FULL, Loading Done\\n',\n",
       " '*Jan 26 06:56:37: %OSPF-5-ADJCHG: Process 1, Nbr 110.79.134.230 on GigabitEthernet2/11 from LOADING to FULL, Loading Done\\n',\n",
       " '*Jan 26 06:56:37: %OSPF-5-ADJCHG: Process 1, Nbr 110.79.135.94 on TenGigabitEthernet7/3 from LOADING to FULL, Loading Done\\n',\n",
       " '*Jan 26 06:56:37: %OSPF-5-ADJCHG: Process 1, Nbr 110.79.134.228 on TenGigabitEthernet7/2 from LOADING to FULL, Loading Done\\n',\n",
       " '*Jan 26 06:56:37: %OSPF-5-ADJCHG: Process 1, Nbr 110.79.134.226 on Vlan120 from LOADING to FULL, Loading Done\\n',\n",
       " '*Jan 26 06:56:37: %OSPF-5-ADJCHG: Process 1, Nbr 110.79.134.249 on TenGigabitEthernet7/11 from LOADING to FULL, Loading Done\\n',\n",
       " '*Jan 26 06:56:37: %OSPF-5-ADJCHG: Process 1, Nbr 110.79.134.248 on TenGigabitEthernet7/10 from LOADING to FULL, Loading Done\\n',\n",
       " '*Jan 26 06:56:37: %OSPF-5-ADJCHG: Process 1, Nbr 110.112.32.218 on TenGigabitEthernet3/1 from LOADING to FULL, Loading Done\\n',\n",
       " '*Jan 26 06:56:37: %OSPF-5-ADJCHG: Process 1, Nbr 110.79.135.33 on Vlan165 from LOADING to FULL, Loading Done\\n',\n",
       " '*Jan 26 06:56:37: %OSPF-5-ADJCHG: Process 1, Nbr 110.79.135.33 on GigabitEthernet2/3 from LOADING to FULL, Loading Done\\n',\n",
       " '*Jan 26 06:56:37: %OSPF-5-ADJCHG: Process 1, Nbr 110.79.135.33 on Vlan168 from LOADING to FULL, Loading Done\\n',\n",
       " '*Jan 26 06:56:37: %OSPF-5-ADJCHG: Process 1, Nbr 60.135.202.220 on GigabitEthernet2/8 from LOADING to FULL, Loading Done\\n',\n",
       " '*Jan 26 06:56:38: %OSPF-5-ADJCHG: Process 1, Nbr 110.112.32.242 on TenGigabitEthernet4/3 from LOADING to FULL, Loading Done\\n',\n",
       " '*Jan 26 06:56:38: %OSPF-5-ADJCHG: Process 1, Nbr 110.79.134.232 on Vlan134 from LOADING to FULL, Loading Done\\n',\n",
       " '*Jan 26 06:56:38: %OSPF-5-ADJCHG: Process 1, Nbr 60.135.202.220 on Vlan144 from LOADING to FULL, Loading Done\\n',\n",
       " '*Jan 26 06:56:38: %OSPF-5-ADJCHG: Process 1, Nbr 110.79.134.241 on Vlan135 from LOADING to FULL, Loading Done\\n',\n",
       " '*Jan 26 06:57:01: %BGP-3-NOTIFICATION: sent to neighbor 110.79.134.225 4/0 (hold time expired) 0 bytes \\n',\n",
       " '*Jan 26 06:57:02: %BGP-3-NOTIFICATION: sent to neighbor 110.79.134.224 4/0 (hold time expired) 0 bytes \\n',\n",
       " '*Jan 26 06:57:04: %BGP-5-ADJCHANGE: neighbor 110.79.134.232 Up \\n',\n",
       " '*Jan 26 06:57:24: %BGP-5-ADJCHANGE: neighbor 110.79.134.225 Up \\n',\n",
       " '*Jan 26 06:57:27: %BGP-5-ADJCHANGE: neighbor 110.79.134.224 Up \\n',\n",
       " '*Jan 26 06:58:32: %PFREDUN-SP-6-ACTIVE: Standby initializing for SSO mode\\n',\n",
       " '*Jan 26 06:58:32: %SYS-SP-3-LOGGER_FLUSHED: System was paused for 00:00:00 to ensure console debugging output.\\n',\n",
       " \"*Jan 26 06:58:47: %PFINIT-SP-5-CONFIG_SYNC: Sync'ing the startup configuration to the standby Router. \\n\",\n",
       " '*Jan 26 06:59:37: %FABRIC-SP-5-CLEAR_BLOCK: Clear block option is off for the fabric in slot 5.\\n',\n",
       " '*Jan 26 06:59:37: %FABRIC-SP-5-FABRIC_MODULE_BACKUP: The Switch Fabric Module in slot 5 became standby\\n',\n",
       " '*Jan 26 06:59:38: %DIAG-SP-6-RUN_MINIMUM: Module 5: Running Minimal Diagnostics...\\n',\n",
       " '*Jan 26 06:59:40: %DIAG-SP-6-DIAG_OK: Module 5: Passed Online Diagnostics\\n',\n",
       " '*Jan 26 06:59:42: %SNMP-5-MODULETRAP: Module 5 [Up] Trap\\n',\n",
       " '*Jan 26 06:59:42: %OIR-SP-6-INSCARD: Card inserted in slot 5, interfaces are now online\\n',\n",
       " '*Jan 26 07:00:54: %HA_CONFIG_SYNC-6-BULK_CFGSYNC_SUCCEED: Bulk Sync succeeded\\n',\n",
       " '*Jan 26 07:00:53: %PFREDUN-SPSTBY-6-STANDBY: Ready for SSO mode\\n',\n",
       " '*Jan 26 07:00:54: %RF-SP-5-RF_TERMINAL_STATE: Terminal state reached for (SSO)\\n',\n",
       " '*Jan 26 07:00:53: %SYS-SPSTBY-3-LOGGER_FLUSHED: System was paused for 00:00:00 to ensure console debugging output.']"
      ]
     },
     "execution_count": 63,
     "metadata": {},
     "output_type": "execute_result"
    }
   ],
   "source": [
    "res"
   ]
  },
  {
   "cell_type": "code",
   "execution_count": 64,
   "metadata": {},
   "outputs": [],
   "source": [
    "label = np.ones(5)"
   ]
  },
  {
   "cell_type": "code",
   "execution_count": 66,
   "metadata": {},
   "outputs": [],
   "source": [
    "label[3] = 0"
   ]
  },
  {
   "cell_type": "code",
   "execution_count": 67,
   "metadata": {},
   "outputs": [
    {
     "data": {
      "text/plain": [
       "array([1., 1., 1., 0., 1.])"
      ]
     },
     "execution_count": 67,
     "metadata": {},
     "output_type": "execute_result"
    }
   ],
   "source": [
    "label"
   ]
  },
  {
   "cell_type": "markdown",
   "metadata": {},
   "source": [
    "## 矩阵运算\n",
    "* 矩阵加减法\n",
    "* 矩阵乘法\n",
    "* 矩阵转置\n",
    "\n",
    "### 矩阵与数、矢量的加减法"
   ]
  },
  {
   "cell_type": "code",
   "execution_count": null,
   "metadata": {},
   "outputs": [],
   "source": [
    "num = 9\n",
    "array = np.array([[2],[3],[2]])\n",
    "M_A = np.ones((3,3))\n",
    "M_B = np.random.random((3,3))\n",
    "\n",
    "# 数和矩阵加减法\n",
    "print(num + M_A)\n",
    "print(num - M_A)\n",
    "\n",
    "# 矢量和矩阵的加减法\n",
    "print(M_A + array)\n",
    "print(M_A - array)\n",
    "\n",
    "# 矩阵加减法\n",
    "print(M_A + M_B)\n",
    "print(M_A - M_B)"
   ]
  },
  {
   "cell_type": "markdown",
   "metadata": {},
   "source": [
    "### 矩阵与数、矢量的乘法"
   ]
  },
  {
   "cell_type": "code",
   "execution_count": null,
   "metadata": {},
   "outputs": [],
   "source": [
    "num = 9\n",
    "array = np.array([[2],[3],[2]])\n",
    "M_A = np.ones((3,3))\n",
    "M_B = np.random.random((3,3))\n",
    "\n",
    "# 数和矩阵的乘法\n",
    "print(M_A * num)\n",
    "\n",
    "# 矢量和矩阵的积\n",
    "print(M_A * array)\n",
    "\n",
    "# 矩阵和矩阵的积\n",
    "print(M_A * M_B)\n",
    "\n",
    "# 矢量和矩阵的乘法\n",
    "print(M_A.dot(array))\n",
    "\n",
    "# 矩阵和矩阵的乘法\n",
    "print(M_A.dot(M_B))"
   ]
  },
  {
   "cell_type": "code",
   "execution_count": null,
   "metadata": {},
   "outputs": [],
   "source": [
    "MX_A = np.random.random((7,10))\n",
    "MX_B = np.random.random((10,3))\n",
    "MX_C = MX_A.dot(MX_B)"
   ]
  },
  {
   "cell_type": "markdown",
   "metadata": {},
   "source": [
    "### 矩阵的转置"
   ]
  },
  {
   "cell_type": "code",
   "execution_count": null,
   "metadata": {},
   "outputs": [],
   "source": [
    "print(MX_C.shape)\n",
    "MX_D = MX_C.T\n",
    "print(MX_D.shape)"
   ]
  }
 ],
 "metadata": {
  "kernelspec": {
   "display_name": "Python 3",
   "language": "python",
   "name": "python3"
  },
  "language_info": {
   "codemirror_mode": {
    "name": "ipython",
    "version": 3
   },
   "file_extension": ".py",
   "mimetype": "text/x-python",
   "name": "python",
   "nbconvert_exporter": "python",
   "pygments_lexer": "ipython3",
   "version": "3.12.0"
  }
 },
 "nbformat": 4,
 "nbformat_minor": 2
}
