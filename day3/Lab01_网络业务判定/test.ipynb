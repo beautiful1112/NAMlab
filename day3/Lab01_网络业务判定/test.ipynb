{
 "cells": [
  {
   "cell_type": "markdown",
   "metadata": {},
   "source": [
    "## 任务：完成JSON数据索引\n",
    "\n",
    "* 新建一个总列表\n",
    "* 取出所有ticket的创建时间、ID、priority、site、status\n",
    "* 每一张单形成一个子列表 [id, create_time, priority, site, status]\n",
    "* 在循环中以 总列表.append(子列表) 的形式形成复合列表"
   ]
  },
  {
   "cell_type": "code",
   "execution_count": 3,
   "metadata": {},
   "outputs": [],
   "source": [
    "import json\n",
    "import pandas as pd\n",
    "\n",
    "def json_to_excel(file_path, col_names, excel_file):\n",
    "    with open(file_path) as f:\n",
    "        json_data = json.load(f)\n",
    "    data_list = []\n",
    "    for one in json_data['datas']:\n",
    "        t_id = one['id']\n",
    "        c_time = one['created_time']['display_value']\n",
    "        pri = one[\"priority\"][\"name\"]\n",
    "        site = one[\"site\"][\"name\"]\n",
    "        status = one[\"status\"][\"name\"]\n",
    "        data_list.append([t_id, c_time, pri, site, status])\n",
    "    pd_data = pd.DataFrame(data_list, columns=col_names)\n",
    "    pd_data.to_excel(excel_file, index=False)\n",
    "\n",
    "\n",
    "columns=['ID', '创建时间', '优先级', '站点', '状态']\n",
    "json_to_excel('network_tech.json', columns, 'network.xlsx')"
   ]
  },
  {
   "cell_type": "code",
   "execution_count": null,
   "metadata": {},
   "outputs": [],
   "source": []
  }
 ],
 "metadata": {
  "kernelspec": {
   "display_name": "Python 3",
   "language": "python",
   "name": "python3"
  },
  "language_info": {
   "codemirror_mode": {
    "name": "ipython",
    "version": 3
   },
   "file_extension": ".py",
   "mimetype": "text/x-python",
   "name": "python",
   "nbconvert_exporter": "python",
   "pygments_lexer": "ipython3",
   "version": "3.12.0"
  }
 },
 "nbformat": 4,
 "nbformat_minor": 2
}
